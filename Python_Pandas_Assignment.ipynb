{
 "cells": [
  {
   "cell_type": "markdown",
   "metadata": {},
   "source": [
    "# PandasAssignment"
   ]
  },
  {
   "attachments": {},
   "cell_type": "markdown",
   "metadata": {},
   "source": [
    "Q1. How do you load a CSV file into a Pandas DataFrame?"
   ]
  },
  {
   "attachments": {},
   "cell_type": "markdown",
   "metadata": {},
   "source": [
    "To read the file, we can use the read_csv method from Pandas. First, let's install the Pandas library.\n",
    "We can now import the pandas module. As a convention, it is imported with the alias pd"
   ]
  },
  {
   "cell_type": "code",
   "execution_count": 59,
   "metadata": {},
   "outputs": [
    {
     "name": "stdout",
     "output_type": "stream",
     "text": [
      "     Name  Age  Income\n",
      "0   Ahmad   25   50000\n",
      "1   Haris   30   60000\n",
      "2  Junaid   35   70000\n"
     ]
    }
   ],
   "source": [
    "import pandas as pd\n",
    "\n",
    "# Load the CSV file into a DataFrame\n",
    "df = pd.read_csv('./filename.csv')\n",
    "\n",
    "# Display the DataFrame\n",
    "print(df)\n"
   ]
  },
  {
   "attachments": {},
   "cell_type": "markdown",
   "metadata": {},
   "source": [
    "Q2. How do you check the data type of a column in a Pandas DataFrame?"
   ]
  },
  {
   "cell_type": "code",
   "execution_count": 60,
   "metadata": {},
   "outputs": [
    {
     "name": "stdout",
     "output_type": "stream",
     "text": [
      "int64\n"
     ]
    }
   ],
   "source": [
    "import pandas as pd\n",
    "\n",
    "# Create a DataFrame\n",
    "data = {'Name': ['Ahmad', 'Haris', 'Junaid'],\n",
    "        'Age': [25, 30, 35],\n",
    "        'Salary': [50000, 60000, 70000]}\n",
    "df = pd.DataFrame(data)\n",
    "\n",
    "# Check the data type of the 'Age' column\n",
    "print(df['Age'].dtype)\n"
   ]
  },
  {
   "attachments": {},
   "cell_type": "markdown",
   "metadata": {},
   "source": [
    "Q3. How do you select rows from a Pandas DataFrame based on a condition?"
   ]
  },
  {
   "cell_type": "code",
   "execution_count": 61,
   "metadata": {},
   "outputs": [
    {
     "name": "stdout",
     "output_type": "stream",
     "text": [
      "     Name  Age  Salary\n",
      "2  Junaid   35   70000\n"
     ]
    }
   ],
   "source": [
    "import pandas as pd\n",
    "\n",
    "# Create a DataFrame\n",
    "data = {'Name': ['Ahmad', 'Haris', 'Junaid'],\n",
    "        'Age': [25, 30, 35],\n",
    "        'Salary': [50000, 60000, 70000]}\n",
    "df = pd.DataFrame(data)\n",
    "\n",
    "# Select rows where the age is greater than 30\n",
    "result = df[df['Age'] > 30]\n",
    "\n",
    "# Display the result\n",
    "print(result)\n"
   ]
  },
  {
   "attachments": {},
   "cell_type": "markdown",
   "metadata": {},
   "source": [
    "Q4. How do you rename columns in a Pandas DataFrame?"
   ]
  },
  {
   "cell_type": "code",
   "execution_count": 62,
   "metadata": {},
   "outputs": [
    {
     "name": "stdout",
     "output_type": "stream",
     "text": [
      "     Name  Age  Income\n",
      "0   Ahmad   25   50000\n",
      "1   Haris   30   60000\n",
      "2  Junaid   35   70000\n"
     ]
    }
   ],
   "source": [
    "import pandas as pd\n",
    "\n",
    "# Create a DataFrame\n",
    "data = {'Name': ['Ahmad', 'Haris', 'Junaid'],\n",
    "        'Age': [25, 30, 35],\n",
    "        'Salary': [50000, 60000, 70000]}\n",
    "df = pd.DataFrame(data)\n",
    "\n",
    "# Rename the 'Salary' column to 'Income'\n",
    "df = df.rename(columns={'Salary': 'Income'})\n",
    "\n",
    "# Display the renamed DataFrame\n",
    "print(df)\n"
   ]
  },
  {
   "attachments": {},
   "cell_type": "markdown",
   "metadata": {},
   "source": [
    "Q5. How do you drop columns in a Pandas DataFrame?"
   ]
  },
  {
   "cell_type": "code",
   "execution_count": 63,
   "metadata": {},
   "outputs": [
    {
     "name": "stdout",
     "output_type": "stream",
     "text": [
      "     Name  Age\n",
      "0   Ahmad   25\n",
      "1   Haris   30\n",
      "2  Junaid   35\n"
     ]
    }
   ],
   "source": [
    "import pandas as pd\n",
    "\n",
    "# Create a DataFrame\n",
    "data = {'Name': ['Ahmad', 'Haris', 'Junaid'],\n",
    "        'Age': [25, 30, 35],\n",
    "        'Salary': [50000, 60000, 70000]}\n",
    "df = pd.DataFrame(data)\n",
    "\n",
    "# Drop the 'Salary' column\n",
    "df = df.drop(columns=['Salary'])\n",
    "\n",
    "# Display the modified DataFrame\n",
    "print(df)\n"
   ]
  },
  {
   "attachments": {},
   "cell_type": "markdown",
   "metadata": {},
   "source": [
    "Q6. How do you find the unique values in a column of a Pandas DataFrame?"
   ]
  },
  {
   "cell_type": "code",
   "execution_count": 64,
   "metadata": {},
   "outputs": [
    {
     "name": "stdout",
     "output_type": "stream",
     "text": [
      "['Ahmad' 'Haris' 'Junaid' 'Talha']\n"
     ]
    }
   ],
   "source": [
    "import pandas as pd\n",
    "\n",
    "# Create a DataFrame\n",
    "data = {'Name': ['Ahmad', 'Haris', 'Junaid', 'Talha'],\n",
    "        'Age': [25, 30, 35, 25],\n",
    "        'Salary': [50000, 60000, 70000, 50000]}\n",
    "df = pd.DataFrame(data)\n",
    "\n",
    "# Find the unique values in the 'Name' column\n",
    "unique_names = df['Name'].unique()\n",
    "\n",
    "# Display the unique values\n",
    "print(unique_names)"
   ]
  },
  {
   "attachments": {},
   "cell_type": "markdown",
   "metadata": {},
   "source": [
    "Q7. How do you find the number of missing values in each column of a Pandas DataFrame?"
   ]
  },
  {
   "cell_type": "code",
   "execution_count": 65,
   "metadata": {},
   "outputs": [
    {
     "name": "stdout",
     "output_type": "stream",
     "text": [
      "Name      1\n",
      "Age       1\n",
      "Salary    1\n",
      "dtype: int64\n"
     ]
    }
   ],
   "source": [
    "import pandas as pd\n",
    "\n",
    "# Create a DataFrame with some missing values\n",
    "data = {'Name': ['Ahmad', 'Haris', 'Junaid', None],\n",
    "        'Age': [25, 30, None, 25],\n",
    "        'Salary': [50000, None, 70000, 50000]}\n",
    "df = pd.DataFrame(data)\n",
    "\n",
    "# Find the number of missing values in each column\n",
    "missing_values = df.isnull().sum()\n",
    "\n",
    "# Display the number of missing values\n",
    "print(missing_values)\n"
   ]
  },
  {
   "attachments": {},
   "cell_type": "markdown",
   "metadata": {},
   "source": [
    "Q8. How do you fill missing values in a Pandas DataFrame with a specific value?"
   ]
  },
  {
   "cell_type": "code",
   "execution_count": 66,
   "metadata": {},
   "outputs": [
    {
     "name": "stdout",
     "output_type": "stream",
     "text": [
      "     Name   Age   Salary\n",
      "0   Ahmad  25.0  50000.0\n",
      "1   Haris  30.0      NaN\n",
      "2  Junaid   NaN  70000.0\n",
      "3     NaN  25.0  50000.0\n"
     ]
    }
   ],
   "source": [
    "import pandas as pd\n",
    "import numpy as np\n",
    "\n",
    "# Create a DataFrame with some missing values\n",
    "data = {'Name': ['Ahmad', 'Haris', 'Junaid', None],\n",
    "        'Age': [25, 30, None, 25],\n",
    "        'Salary': [50000, None, 70000, 50000]}\n",
    "df = pd.DataFrame(data)\n",
    "\n",
    "# Fill missing values with a specific value\n",
    "df = df.fillna(value=np.nan)\n",
    "\n",
    "# Display the modified DataFrame\n",
    "print(df)\n"
   ]
  },
  {
   "attachments": {},
   "cell_type": "markdown",
   "metadata": {},
   "source": [
    "Q9. How do you concatenate two Pandas DataFrames?"
   ]
  },
  {
   "cell_type": "code",
   "execution_count": 67,
   "metadata": {},
   "outputs": [
    {
     "name": "stdout",
     "output_type": "stream",
     "text": [
      "      Name  Age\n",
      "0    Ahmad   25\n",
      "1    Haris   30\n",
      "2   Junaid   35\n",
      "0  Khalfan   40\n",
      "1    Wahab   45\n",
      "2    Imran   50\n"
     ]
    }
   ],
   "source": [
    "import pandas as pd\n",
    "\n",
    "# Create two DataFrames\n",
    "data1 = {'Name': ['Ahmad', 'Haris', 'Junaid'],\n",
    "         'Age': [25, 30, 35]}\n",
    "df1 = pd.DataFrame(data1)\n",
    "\n",
    "data2 = {'Name': ['Khalfan', 'Wahab', 'Imran'],\n",
    "         'Age': [40, 45, 50]}\n",
    "df2 = pd.DataFrame(data2)\n",
    "\n",
    "# Concatenate the two DataFrames\n",
    "result = pd.concat([df1, df2])\n",
    "\n",
    "# Display the concatenated DataFrame\n",
    "print(result)"
   ]
  },
  {
   "attachments": {},
   "cell_type": "markdown",
   "metadata": {},
   "source": [
    "Q10. How do you merge two Pandas DataFrames on a specific column?"
   ]
  },
  {
   "cell_type": "code",
   "execution_count": 68,
   "metadata": {},
   "outputs": [
    {
     "name": "stdout",
     "output_type": "stream",
     "text": [
      "Empty DataFrame\n",
      "Columns: [Name, Age, Salary, Dept]\n",
      "Index: []\n"
     ]
    }
   ],
   "source": [
    "import pandas as pd\n",
    "\n",
    "# Create two DataFrames\n",
    "data1 = {'Name': ['Ahmad', 'Haris', 'Junaid'],\n",
    "         'Age': [25, 30, 35],\n",
    "         'Salary': [50000, 60000, 70000]}\n",
    "df1 = pd.DataFrame(data1)\n",
    "\n",
    "data2 = {'Name': ['Khalfan', 'Wahab', 'Imran'],\n",
    "         'Dept': ['HR', 'Finance', 'IT']}\n",
    "df2 = pd.DataFrame(data2)\n",
    "\n",
    "# Merge the two DataFrames on the 'Name' column\n",
    "result = pd.merge(df1, df2, on='Name')\n",
    "\n",
    "# Display the merged DataFrame\n",
    "print(result)\n"
   ]
  },
  {
   "attachments": {},
   "cell_type": "markdown",
   "metadata": {},
   "source": [
    "Q11. How do you group data in a Pandas DataFrame by a specific column and apply an aggregation function?"
   ]
  },
  {
   "cell_type": "code",
   "execution_count": 69,
   "metadata": {},
   "outputs": [
    {
     "name": "stdout",
     "output_type": "stream",
     "text": [
      "Dept\n",
      "Finance    62500.0\n",
      "HR         52500.0\n",
      "IT         75000.0\n",
      "Name: Salary, dtype: float64\n"
     ]
    }
   ],
   "source": [
    "import pandas as pd\n",
    "\n",
    "# Create a DataFrame\n",
    "data = {'Name': ['Ahmad', 'Haris', 'Junaid', 'Khalfan', 'Wahab', 'Imran'],\n",
    "        'Dept': ['HR', 'Finance', 'IT', 'IT', 'HR', 'Finance'],\n",
    "        'Salary': [50000, 60000, 70000, 80000, 55000, 65000]}\n",
    "df = pd.DataFrame(data)\n",
    "\n",
    "# Group the DataFrame by 'Dept' and calculate the mean of 'Salary' for each group\n",
    "result = df.groupby('Dept')['Salary'].mean()\n",
    "\n",
    "# Display the result\n",
    "print(result)\n"
   ]
  },
  {
   "attachments": {},
   "cell_type": "markdown",
   "metadata": {},
   "source": [
    "Q12. How do you pivot a Pandas DataFrame?"
   ]
  },
  {
   "cell_type": "code",
   "execution_count": 70,
   "metadata": {},
   "outputs": [
    {
     "name": "stdout",
     "output_type": "stream",
     "text": [
      "Dept     Finance       HR       IT\n",
      "Name                              \n",
      "Ahmad        NaN  50000.0      NaN\n",
      "Haris    60000.0      NaN      NaN\n",
      "Imran    65000.0      NaN      NaN\n",
      "Junaid       NaN      NaN  70000.0\n",
      "Khalfan      NaN      NaN  80000.0\n",
      "Wahab        NaN  55000.0      NaN\n"
     ]
    }
   ],
   "source": [
    "import pandas as pd\n",
    "\n",
    "# Create a DataFrame\n",
    "data = {'Name': ['Ahmad', 'Haris', 'Junaid', 'Khalfan', 'Wahab', 'Imran'],\n",
    "        'Dept': ['HR', 'Finance', 'IT', 'IT', 'HR', 'Finance'],\n",
    "        'Salary': [50000, 60000, 70000, 80000, 55000, 65000]}\n",
    "df = pd.DataFrame(data)\n",
    "\n",
    "# Pivot the DataFrame\n",
    "result = df.pivot(index='Name', columns='Dept', values='Salary')\n",
    "\n",
    "# Display the result\n",
    "print(result)\n"
   ]
  },
  {
   "attachments": {},
   "cell_type": "markdown",
   "metadata": {},
   "source": [
    "Q13. How do you change the data type of a column in a Pandas DataFrame?"
   ]
  },
  {
   "cell_type": "code",
   "execution_count": 71,
   "metadata": {},
   "outputs": [
    {
     "name": "stdout",
     "output_type": "stream",
     "text": [
      "      Name  Age\n",
      "0    Ahmad   35\n",
      "1    Haris   27\n",
      "2   Junaid   41\n",
      "3  Khalfan   22\n",
      "4    Wahab   38\n",
      "5    Imran   29\n"
     ]
    }
   ],
   "source": [
    "import pandas as pd\n",
    "\n",
    "# Create a DataFrame\n",
    "data = {'Name': ['Ahmad', 'Haris', 'Junaid', 'Khalfan', 'Wahab', 'Imran'],\n",
    "        'Age': ['35', '27', '41', '22', '38', '29']}\n",
    "df = pd.DataFrame(data)\n",
    "\n",
    "# Convert the 'Age' column to integer\n",
    "df['Age'] = df['Age'].astype(int)\n",
    "\n",
    "# Display the DataFrame\n",
    "print(df)\n"
   ]
  },
  {
   "attachments": {},
   "cell_type": "markdown",
   "metadata": {},
   "source": [
    "Q14. How do you sort a Pandas DataFrame by a specific column?"
   ]
  },
  {
   "cell_type": "code",
   "execution_count": 72,
   "metadata": {},
   "outputs": [
    {
     "name": "stdout",
     "output_type": "stream",
     "text": [
      "      Name  Age  Salary\n",
      "0    Ahmad   35   50000\n",
      "4    Wahab   38   55000\n",
      "1    Haris   27   60000\n",
      "5    Imran   29   65000\n",
      "2   Junaid   41   70000\n",
      "3  Khalfan   22   80000\n"
     ]
    }
   ],
   "source": [
    "import pandas as pd\n",
    "\n",
    "# Create a DataFrame\n",
    "data = {'Name': ['Ahmad', 'Haris', 'Junaid', 'Khalfan', 'Wahab', 'Imran'],\n",
    "        'Age': [35, 27, 41, 22, 38, 29],\n",
    "        'Salary': [50000, 60000, 70000, 80000, 55000, 65000]}\n",
    "df = pd.DataFrame(data)\n",
    "\n",
    "# Sort the DataFrame by the 'Salary' column\n",
    "df_sorted = df.sort_values('Salary')\n",
    "\n",
    "# Display the sorted DataFrame\n",
    "print(df_sorted)\n"
   ]
  },
  {
   "attachments": {},
   "cell_type": "markdown",
   "metadata": {},
   "source": [
    "Q15. How do you create a copy of a Pandas DataFrame?"
   ]
  },
  {
   "cell_type": "code",
   "execution_count": 73,
   "metadata": {},
   "outputs": [
    {
     "name": "stdout",
     "output_type": "stream",
     "text": [
      "Original DataFrame:\n",
      "      Name  Age  Salary\n",
      "0    Ahmad   35   50000\n",
      "1    Haris   27   60000\n",
      "2   Junaid   41   70000\n",
      "3  Khalfan   22   80000\n",
      "4    Wahab   38   55000\n",
      "5    Imran   29   65000\n",
      "\n",
      "Copy of the DataFrame:\n",
      "      Name  Age  Salary\n",
      "0    Ahmad   35   50000\n",
      "1    Haris   27   60000\n",
      "2   Junaid   41   70000\n",
      "3  Khalfan   22   80000\n",
      "4    Wahab   38   55000\n",
      "5    Imran   29   65000\n"
     ]
    }
   ],
   "source": [
    "import pandas as pd\n",
    "\n",
    "# Create a DataFrame\n",
    "data = {'Name': ['Ahmad', 'Haris', 'Junaid', 'Khalfan', 'Wahab', 'Imran'],\n",
    "        'Age': [35, 27, 41, 22, 38, 29],\n",
    "        'Salary': [50000, 60000, 70000, 80000, 55000, 65000]}\n",
    "df = pd.DataFrame(data)\n",
    "\n",
    "# Create a copy of the DataFrame\n",
    "df_copy = df.copy()\n",
    "\n",
    "# Display the original DataFrame and its copy\n",
    "print('Original DataFrame:')\n",
    "print(df)\n",
    "print('\\nCopy of the DataFrame:')\n",
    "print(df_copy)\n"
   ]
  },
  {
   "attachments": {},
   "cell_type": "markdown",
   "metadata": {},
   "source": [
    "Q16. How do you filter rows of a Pandas DataFrame by multiple conditions?"
   ]
  },
  {
   "cell_type": "code",
   "execution_count": 74,
   "metadata": {},
   "outputs": [
    {
     "name": "stdout",
     "output_type": "stream",
     "text": [
      "    Name  Age  Salary\n",
      "0  Ahmad   35   50000\n",
      "4  Wahab   38   55000\n"
     ]
    }
   ],
   "source": [
    "import pandas as pd\n",
    "\n",
    "# Create a DataFrame\n",
    "data = {'Name': ['Ahmad', 'Haris', 'Junaid', 'Khalfan', 'Wahab', 'Imran'],\n",
    "        'Age': [35, 27, 41, 22, 38, 29],\n",
    "        'Salary': [50000, 60000, 70000, 80000, 55000, 65000]}\n",
    "df = pd.DataFrame(data)\n",
    "\n",
    "# Filter the DataFrame by multiple conditions\n",
    "filtered_df = df[(df['Age'] > 30) & (df['Salary'] < 70000)]\n",
    "\n",
    "# Display the filtered DataFrame\n",
    "print(filtered_df)\n"
   ]
  },
  {
   "attachments": {},
   "cell_type": "markdown",
   "metadata": {},
   "source": [
    "Q17. How do you calculate the mean of a column in a Pandas DataFrame?"
   ]
  },
  {
   "cell_type": "code",
   "execution_count": 75,
   "metadata": {},
   "outputs": [
    {
     "name": "stdout",
     "output_type": "stream",
     "text": [
      "63333.333333333336\n"
     ]
    }
   ],
   "source": [
    "import pandas as pd\n",
    "\n",
    "# Create a DataFrame\n",
    "data = {'Name': ['Ahmad', 'Haris', 'Junaid', 'Khalfan', 'Wahab', 'Imran'],\n",
    "        'Age': [35, 27, 41, 22, 38, 29],\n",
    "        'Salary': [50000, 60000, 70000, 80000, 55000, 65000]}\n",
    "df = pd.DataFrame(data)\n",
    "\n",
    "# Calculate the mean of the 'Salary' column\n",
    "mean_salary = df['Salary'].mean()\n",
    "\n",
    "# Print the mean to the console\n",
    "print(mean_salary)\n"
   ]
  },
  {
   "attachments": {},
   "cell_type": "markdown",
   "metadata": {},
   "source": [
    "Q18. How do you calculate the standard deviation of a column in a Pandas DataFrame?"
   ]
  },
  {
   "cell_type": "code",
   "execution_count": 76,
   "metadata": {},
   "outputs": [
    {
     "name": "stdout",
     "output_type": "stream",
     "text": [
      "10801.234497346433\n"
     ]
    }
   ],
   "source": [
    "import pandas as pd\n",
    "\n",
    "# Create a DataFrame\n",
    "data = {'Name': ['Ahmad', 'Haris', 'Junaid', 'Khalfan', 'Wahab', 'Imran'],\n",
    "        'Age': [35, 27, 41, 22, 38, 29],\n",
    "        'Salary': [50000, 60000, 70000, 80000, 55000, 65000]}\n",
    "df = pd.DataFrame(data)\n",
    "\n",
    "# Calculate the standard deviation of the 'Salary' column\n",
    "std_salary = df['Salary'].std()\n",
    "\n",
    "# Print the standard deviation to the console\n",
    "print(std_salary)\n"
   ]
  },
  {
   "attachments": {},
   "cell_type": "markdown",
   "metadata": {},
   "source": [
    "Q19. How do you calculate the correlation between two columns in a Pandas DataFrame?"
   ]
  },
  {
   "cell_type": "code",
   "execution_count": 77,
   "metadata": {},
   "outputs": [
    {
     "name": "stdout",
     "output_type": "stream",
     "text": [
      "0.3464101615137754\n"
     ]
    }
   ],
   "source": [
    "import pandas as pd\n",
    "\n",
    "# Create a DataFrame\n",
    "data = {'Name': ['Ahmad', 'Haris', 'Junaid', 'Khalfan', 'Wahab', 'Imran'],\n",
    "        'Age': [35, 27, 41, 22, 38, 29],\n",
    "        'Salary': [50000, 60000, 70000, 80000, 55000, 65000],\n",
    "        'Sales': [10, 20, 30, 40, 50, 60]}\n",
    "df = pd.DataFrame(data)\n",
    "\n",
    "# Calculate the correlation between 'Salary' and 'Sales'\n",
    "corr = df['Salary'].corr(df['Sales'])\n",
    "\n",
    "# Print the correlation to the console\n",
    "print(corr)\n"
   ]
  },
  {
   "attachments": {},
   "cell_type": "markdown",
   "metadata": {},
   "source": [
    "Q20. How do you select specific columns in a DataFrame using their labels?"
   ]
  },
  {
   "cell_type": "code",
   "execution_count": 78,
   "metadata": {},
   "outputs": [
    {
     "name": "stdout",
     "output_type": "stream",
     "text": [
      "      Name  Salary  Sales\n",
      "0    Ahmad   50000     10\n",
      "1    Haris   60000     20\n",
      "2   Junaid   70000     30\n",
      "3  Khalfan   80000     40\n",
      "4    Wahab   55000     50\n",
      "5    Imran   65000     60\n"
     ]
    }
   ],
   "source": [
    "import pandas as pd\n",
    "\n",
    "# Create a DataFrame\n",
    "data = {'Name': ['Ahmad', 'Haris', 'Junaid', 'Khalfan', 'Wahab', 'Imran'],\n",
    "        'Age': [35, 27, 41, 22, 38, 29],\n",
    "        'Salary': [50000, 60000, 70000, 80000, 55000, 65000],\n",
    "        'Sales': [10, 20, 30, 40, 50, 60]}\n",
    "df = pd.DataFrame(data)\n",
    "\n",
    "# Select specific columns using their labels\n",
    "selected_cols = df.loc[:, ['Name', 'Salary', 'Sales']]\n",
    "\n",
    "# Print the selected columns to the console\n",
    "print(selected_cols)\n"
   ]
  },
  {
   "attachments": {},
   "cell_type": "markdown",
   "metadata": {},
   "source": [
    "Q21. How do you select specific rows in a DataFrame using their indexes?"
   ]
  },
  {
   "cell_type": "code",
   "execution_count": 79,
   "metadata": {},
   "outputs": [
    {
     "name": "stdout",
     "output_type": "stream",
     "text": [
      "      Name  Age  Salary  Sales\n",
      "1    Haris   27   60000     20\n",
      "3  Khalfan   22   80000     40\n",
      "5    Imran   29   65000     60\n"
     ]
    }
   ],
   "source": [
    "import pandas as pd\n",
    "\n",
    "# Create a DataFrame\n",
    "data = {'Name': ['Ahmad', 'Haris', 'Junaid', 'Khalfan', 'Wahab', 'Imran'],\n",
    "        'Age': [35, 27, 41, 22, 38, 29],\n",
    "        'Salary': [50000, 60000, 70000, 80000, 55000, 65000],\n",
    "        'Sales': [10, 20, 30, 40, 50, 60]}\n",
    "df = pd.DataFrame(data)\n",
    "\n",
    "# Select specific rows using their indexes\n",
    "selected_rows = df.iloc[[1, 3, 5]]\n",
    "\n",
    "# Print the selected rows to the console\n",
    "print(selected_rows)\n"
   ]
  },
  {
   "attachments": {},
   "cell_type": "markdown",
   "metadata": {},
   "source": [
    "Q22. How do you sort a DataFrame by a specific column?"
   ]
  },
  {
   "cell_type": "code",
   "execution_count": 80,
   "metadata": {},
   "outputs": [
    {
     "name": "stdout",
     "output_type": "stream",
     "text": [
      "      Name  Age  Salary  Sales\n",
      "3  Khalfan   22   80000     40\n",
      "1    Haris   27   60000     20\n",
      "5    Imran   29   65000     60\n",
      "0    Ahmad   35   50000     10\n",
      "4    Wahab   38   55000     50\n",
      "2   Junaid   41   70000     30\n"
     ]
    }
   ],
   "source": [
    "import pandas as pd\n",
    "\n",
    "# Create a DataFrame\n",
    "data = {'Name': ['Ahmad', 'Haris', 'Junaid', 'Khalfan', 'Wahab', 'Imran'],\n",
    "        'Age': [35, 27, 41, 22, 38, 29],\n",
    "        'Salary': [50000, 60000, 70000, 80000, 55000, 65000],\n",
    "        'Sales': [10, 20, 30, 40, 50, 60]}\n",
    "df = pd.DataFrame(data)\n",
    "\n",
    "# Sort the DataFrame by the 'Age' column\n",
    "df_sorted = df.sort_values(by='Age')\n",
    "\n",
    "# Print the sorted DataFrame to the console\n",
    "print(df_sorted)\n"
   ]
  },
  {
   "attachments": {},
   "cell_type": "markdown",
   "metadata": {},
   "source": [
    "Q23. How do you create a new column in a DataFrame based on the values of another column?"
   ]
  },
  {
   "cell_type": "code",
   "execution_count": 81,
   "metadata": {},
   "outputs": [
    {
     "name": "stdout",
     "output_type": "stream",
     "text": [
      "   price  quantity  revenue\n",
      "0     10         5       50\n",
      "1     20        10      200\n",
      "2     30        15      450\n",
      "3     40        20      800\n"
     ]
    }
   ],
   "source": [
    "# To create a new column in a Pandas DataFrame based on the values of another column, \n",
    "# you can use the following syntax:\n",
    "\n",
    "# df['new_column'] = df['existing_column'].apply(your_function)\n",
    "\n",
    "import pandas as pd\n",
    "\n",
    "# Create a DataFrame\n",
    "data = {'price': [10, 20, 30, 40],\n",
    "        'quantity': [5, 10, 15, 20]}\n",
    "df = pd.DataFrame(data)\n",
    "\n",
    "# Create a new column called 'revenue'\n",
    "df['revenue'] = df['price'] * df['quantity']\n",
    "\n",
    "# Print the updated DataFrame\n",
    "print(df)\n"
   ]
  },
  {
   "attachments": {},
   "cell_type": "markdown",
   "metadata": {},
   "source": [
    "Q24. How do you remove duplicates from a DataFrame?"
   ]
  },
  {
   "attachments": {},
   "cell_type": "markdown",
   "metadata": {},
   "source": [
    "To remove duplicates from a Pandas DataFrame, you can use the drop_duplicates() method. This method removes all rows that have duplicate values in one or more columns.\n",
    "\n",
    "The basic syntax for drop_duplicates() is as follows:\n",
    "\n",
    "df.drop_duplicates()"
   ]
  },
  {
   "cell_type": "code",
   "execution_count": 82,
   "metadata": {},
   "outputs": [
    {
     "ename": "ValueError",
     "evalue": "All arrays must be of the same length",
     "output_type": "error",
     "traceback": [
      "\u001b[1;31m---------------------------------------------------------------------------\u001b[0m",
      "\u001b[1;31mValueError\u001b[0m                                Traceback (most recent call last)",
      "Cell \u001b[1;32mIn[82], line 7\u001b[0m\n\u001b[0;32m      3\u001b[0m \u001b[39m# Create a DataFrame with duplicate rows\u001b[39;00m\n\u001b[0;32m      4\u001b[0m data \u001b[39m=\u001b[39m {\u001b[39m'\u001b[39m\u001b[39mname\u001b[39m\u001b[39m'\u001b[39m: [\u001b[39m'\u001b[39m\u001b[39mAhmad\u001b[39m\u001b[39m'\u001b[39m, \u001b[39m'\u001b[39m\u001b[39mHaris\u001b[39m\u001b[39m'\u001b[39m, \u001b[39m'\u001b[39m\u001b[39mJunaid\u001b[39m\u001b[39m'\u001b[39m, \u001b[39m'\u001b[39m\u001b[39mKhalfan\u001b[39m\u001b[39m'\u001b[39m, \u001b[39m'\u001b[39m\u001b[39mWahab\u001b[39m\u001b[39m'\u001b[39m, \u001b[39m'\u001b[39m\u001b[39mImran\u001b[39m\u001b[39m'\u001b[39m, \u001b[39m'\u001b[39m\u001b[39mKhalfan\u001b[39m\u001b[39m'\u001b[39m, \u001b[39m'\u001b[39m\u001b[39mWahab\u001b[39m\u001b[39m'\u001b[39m, \u001b[39m'\u001b[39m\u001b[39mImran\u001b[39m\u001b[39m'\u001b[39m],\n\u001b[0;32m      5\u001b[0m         \u001b[39m'\u001b[39m\u001b[39mage\u001b[39m\u001b[39m'\u001b[39m: [\u001b[39m25\u001b[39m, \u001b[39m30\u001b[39m, \u001b[39m35\u001b[39m, \u001b[39m25\u001b[39m, \u001b[39m40\u001b[39m, \u001b[39m30\u001b[39m],\n\u001b[0;32m      6\u001b[0m         \u001b[39m'\u001b[39m\u001b[39mcity\u001b[39m\u001b[39m'\u001b[39m: [\u001b[39m'\u001b[39m\u001b[39mCharsadda\u001b[39m\u001b[39m'\u001b[39m, \u001b[39m'\u001b[39m\u001b[39mMardan\u001b[39m\u001b[39m'\u001b[39m, \u001b[39m'\u001b[39m\u001b[39mHangu\u001b[39m\u001b[39m'\u001b[39m, \u001b[39m'\u001b[39m\u001b[39mCharsadda\u001b[39m\u001b[39m'\u001b[39m, \u001b[39m'\u001b[39m\u001b[39mPeshawar\u001b[39m\u001b[39m'\u001b[39m, \u001b[39m'\u001b[39m\u001b[39mKohat\u001b[39m\u001b[39m'\u001b[39m]}\n\u001b[1;32m----> 7\u001b[0m df \u001b[39m=\u001b[39m pd\u001b[39m.\u001b[39;49mDataFrame(data)\n\u001b[0;32m      9\u001b[0m \u001b[39m# Remove duplicate rows\u001b[39;00m\n\u001b[0;32m     10\u001b[0m df \u001b[39m=\u001b[39m df\u001b[39m.\u001b[39mdrop_duplicates()\n",
      "File \u001b[1;32mc:\\Users\\sami1\\AppData\\Local\\Programs\\Python\\Python39\\lib\\site-packages\\pandas\\core\\frame.py:708\u001b[0m, in \u001b[0;36mDataFrame.__init__\u001b[1;34m(self, data, index, columns, dtype, copy)\u001b[0m\n\u001b[0;32m    702\u001b[0m     mgr \u001b[39m=\u001b[39m \u001b[39mself\u001b[39m\u001b[39m.\u001b[39m_init_mgr(\n\u001b[0;32m    703\u001b[0m         data, axes\u001b[39m=\u001b[39m{\u001b[39m\"\u001b[39m\u001b[39mindex\u001b[39m\u001b[39m\"\u001b[39m: index, \u001b[39m\"\u001b[39m\u001b[39mcolumns\u001b[39m\u001b[39m\"\u001b[39m: columns}, dtype\u001b[39m=\u001b[39mdtype, copy\u001b[39m=\u001b[39mcopy\n\u001b[0;32m    704\u001b[0m     )\n\u001b[0;32m    706\u001b[0m \u001b[39melif\u001b[39;00m \u001b[39misinstance\u001b[39m(data, \u001b[39mdict\u001b[39m):\n\u001b[0;32m    707\u001b[0m     \u001b[39m# GH#38939 de facto copy defaults to False only in non-dict cases\u001b[39;00m\n\u001b[1;32m--> 708\u001b[0m     mgr \u001b[39m=\u001b[39m dict_to_mgr(data, index, columns, dtype\u001b[39m=\u001b[39;49mdtype, copy\u001b[39m=\u001b[39;49mcopy, typ\u001b[39m=\u001b[39;49mmanager)\n\u001b[0;32m    709\u001b[0m \u001b[39melif\u001b[39;00m \u001b[39misinstance\u001b[39m(data, ma\u001b[39m.\u001b[39mMaskedArray):\n\u001b[0;32m    710\u001b[0m     \u001b[39mfrom\u001b[39;00m \u001b[39mnumpy\u001b[39;00m\u001b[39m.\u001b[39;00m\u001b[39mma\u001b[39;00m \u001b[39mimport\u001b[39;00m mrecords\n",
      "File \u001b[1;32mc:\\Users\\sami1\\AppData\\Local\\Programs\\Python\\Python39\\lib\\site-packages\\pandas\\core\\internals\\construction.py:481\u001b[0m, in \u001b[0;36mdict_to_mgr\u001b[1;34m(data, index, columns, dtype, typ, copy)\u001b[0m\n\u001b[0;32m    477\u001b[0m     \u001b[39melse\u001b[39;00m:\n\u001b[0;32m    478\u001b[0m         \u001b[39m# dtype check to exclude e.g. range objects, scalars\u001b[39;00m\n\u001b[0;32m    479\u001b[0m         arrays \u001b[39m=\u001b[39m [x\u001b[39m.\u001b[39mcopy() \u001b[39mif\u001b[39;00m \u001b[39mhasattr\u001b[39m(x, \u001b[39m\"\u001b[39m\u001b[39mdtype\u001b[39m\u001b[39m\"\u001b[39m) \u001b[39melse\u001b[39;00m x \u001b[39mfor\u001b[39;00m x \u001b[39min\u001b[39;00m arrays]\n\u001b[1;32m--> 481\u001b[0m \u001b[39mreturn\u001b[39;00m arrays_to_mgr(arrays, columns, index, dtype\u001b[39m=\u001b[39;49mdtype, typ\u001b[39m=\u001b[39;49mtyp, consolidate\u001b[39m=\u001b[39;49mcopy)\n",
      "File \u001b[1;32mc:\\Users\\sami1\\AppData\\Local\\Programs\\Python\\Python39\\lib\\site-packages\\pandas\\core\\internals\\construction.py:115\u001b[0m, in \u001b[0;36marrays_to_mgr\u001b[1;34m(arrays, columns, index, dtype, verify_integrity, typ, consolidate)\u001b[0m\n\u001b[0;32m    112\u001b[0m \u001b[39mif\u001b[39;00m verify_integrity:\n\u001b[0;32m    113\u001b[0m     \u001b[39m# figure out the index, if necessary\u001b[39;00m\n\u001b[0;32m    114\u001b[0m     \u001b[39mif\u001b[39;00m index \u001b[39mis\u001b[39;00m \u001b[39mNone\u001b[39;00m:\n\u001b[1;32m--> 115\u001b[0m         index \u001b[39m=\u001b[39m _extract_index(arrays)\n\u001b[0;32m    116\u001b[0m     \u001b[39melse\u001b[39;00m:\n\u001b[0;32m    117\u001b[0m         index \u001b[39m=\u001b[39m ensure_index(index)\n",
      "File \u001b[1;32mc:\\Users\\sami1\\AppData\\Local\\Programs\\Python\\Python39\\lib\\site-packages\\pandas\\core\\internals\\construction.py:655\u001b[0m, in \u001b[0;36m_extract_index\u001b[1;34m(data)\u001b[0m\n\u001b[0;32m    653\u001b[0m lengths \u001b[39m=\u001b[39m \u001b[39mlist\u001b[39m(\u001b[39mset\u001b[39m(raw_lengths))\n\u001b[0;32m    654\u001b[0m \u001b[39mif\u001b[39;00m \u001b[39mlen\u001b[39m(lengths) \u001b[39m>\u001b[39m \u001b[39m1\u001b[39m:\n\u001b[1;32m--> 655\u001b[0m     \u001b[39mraise\u001b[39;00m \u001b[39mValueError\u001b[39;00m(\u001b[39m\"\u001b[39m\u001b[39mAll arrays must be of the same length\u001b[39m\u001b[39m\"\u001b[39m)\n\u001b[0;32m    657\u001b[0m \u001b[39mif\u001b[39;00m have_dicts:\n\u001b[0;32m    658\u001b[0m     \u001b[39mraise\u001b[39;00m \u001b[39mValueError\u001b[39;00m(\n\u001b[0;32m    659\u001b[0m         \u001b[39m\"\u001b[39m\u001b[39mMixing dicts with non-Series may lead to ambiguous ordering.\u001b[39m\u001b[39m\"\u001b[39m\n\u001b[0;32m    660\u001b[0m     )\n",
      "\u001b[1;31mValueError\u001b[0m: All arrays must be of the same length"
     ]
    }
   ],
   "source": [
    "import pandas as pd\n",
    "\n",
    "# Create a DataFrame with duplicate rows\n",
    "data = {'name': ['Ahmad', 'Haris', 'Junaid', 'Khalfan', 'Wahab', 'Imran', 'Khalfan', 'Wahab', 'Imran'],\n",
    "        'age': [25, 30, 35, 25, 40, 30],\n",
    "        'city': ['Charsadda', 'Mardan', 'Hangu', 'Charsadda', 'Peshawar', 'Kohat']}\n",
    "df = pd.DataFrame(data)\n",
    "\n",
    "# Remove duplicate rows\n",
    "df = df.drop_duplicates()\n",
    "\n",
    "# Print the updated DataFrame\n",
    "print(df)\n"
   ]
  },
  {
   "attachments": {},
   "cell_type": "markdown",
   "metadata": {},
   "source": [
    "Q25. What is the difference between .loc and .iloc in Pandas?"
   ]
  },
  {
   "attachments": {},
   "cell_type": "markdown",
   "metadata": {},
   "source": [
    "In Pandas, both .loc and .iloc are used to select specific rows and columns from a DataFrame. However, there is a subtle difference between the two:\n",
    "\n",
    ".loc is primarily label-based, which means that you can use it to select data based on the row and column labels.\n",
    "\n",
    ".iloc, on the other hand, is primarily integer-based, which means that you can use it to select data based on the integer index of the rows and columns.\n",
    "Here are some examples that demonstrate the difference between .loc and .iloc:"
   ]
  },
  {
   "cell_type": "code",
   "execution_count": null,
   "metadata": {},
   "outputs": [],
   "source": [
    "import pandas as pd\n",
    "\n",
    "# Create a sample DataFrame\n",
    "df = pd.DataFrame({'name': ['Ahmad', 'Haris', 'Junaid', 'Khalfan'],\n",
    "                   'age': [25, 30, 35, 40],\n",
    "                   'city': ['Charsadda', 'Mardan', 'Hangu', 'Peshawar']})\n"
   ]
  },
  {
   "cell_type": "code",
   "execution_count": null,
   "metadata": {},
   "outputs": [
    {
     "name": "stdout",
     "output_type": "stream",
     "text": [
      "Alice\n",
      "Alice\n"
     ]
    }
   ],
   "source": [
    "# To select the row with index 0 and column name, you can use .iloc like this:\n",
    "\n",
    "print(df.iloc[0, 0])   # Output: Ahmad\n",
    "print(df.loc[0, 'name'])   # Output: Ahmad\n"
   ]
  },
  {
   "cell_type": "code",
   "execution_count": null,
   "metadata": {},
   "outputs": [
    {
     "name": "stdout",
     "output_type": "stream",
     "text": [
      "    name  age           city\n",
      "0  Alice   25       New York\n",
      "1    Bob   30  San Francisco\n",
      "    name  age           city\n",
      "0  Alice   25       New York\n",
      "1    Bob   30  San Francisco\n"
     ]
    }
   ],
   "source": [
    "# You can also use .loc and .iloc to select multiple rows and columns. For example, \n",
    "# to select the first two rows and all columns using .iloc, you can do:\n",
    "print(df.iloc[:2, :])  \n",
    "\n",
    "# To select the first two rows and all columns using .loc, you can do:\n",
    "print(df.loc[:1, :])"
   ]
  }
 ],
 "metadata": {
  "kernelspec": {
   "display_name": "Python 3",
   "language": "python",
   "name": "python3"
  },
  "language_info": {
   "codemirror_mode": {
    "name": "ipython",
    "version": 3
   },
   "file_extension": ".py",
   "mimetype": "text/x-python",
   "name": "python",
   "nbconvert_exporter": "python",
   "pygments_lexer": "ipython3",
   "version": "3.9.9"
  },
  "orig_nbformat": 4
 },
 "nbformat": 4,
 "nbformat_minor": 2
}
